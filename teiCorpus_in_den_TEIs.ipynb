{
 "cells": [
  {
   "cell_type": "markdown",
   "id": "d08e0d53",
   "metadata": {},
   "source": [
    "# teiCorpus_in_den_TEIs"
   ]
  },
  {
   "cell_type": "code",
   "execution_count": 1,
   "id": "a24bbcd5",
   "metadata": {},
   "outputs": [
    {
     "name": "stdout",
     "output_type": "stream",
     "text": [
      "TEI-Elemente wurden als separate XML-Dateien mit Schemazuweisungen gespeichert.\n"
     ]
    }
   ],
   "source": [
    "import os\n",
    "import xml.etree.ElementTree as ET\n",
    "\n",
    "# Funktion zum Extrahieren aller TEI-Elemente aus der teiCorpus-Datei unter Berücksichtigung aller Namensräume\n",
    "def extract_tei_elements(teicorpus_file):\n",
    "    tei_elements = []\n",
    "    # Namensraum-Präfixe und ihre Zuordnung zu URIs entfernen\n",
    "    ET.register_namespace('', 'http://www.tei-c.org/ns/1.0')\n",
    "    ET.register_namespace(\"a\",\"www.dglab.uni-jena.de/vmf/a\")\n",
    "    ET.register_namespace(\"b1\", \"www.dglab.uni-jena.de/vmf/b1\")\n",
    "    ET.register_namespace(\"b2\",\"www.dglab.uni-jena.de/vmf/b2\")\n",
    "    ET.register_namespace(\"b3\",\"www.dglab.uni-jena.de/vmf/b3\")\n",
    "    ET.register_namespace(\"b4\",\"www.dglab.uni-jena.de/vmf/b4\")\n",
    "    ET.register_namespace(\"b5\",\"www.dglab.uni-jena.de/vmf/b5\")\n",
    "    ET.register_namespace(\"c1\",\"www.dglab.uni-jena.de/vmf/c1\")\n",
    "    ET.register_namespace(\"c2\", \"www.dglab.uni-jena.de/vmf/c2\")\n",
    "    ET.register_namespace(\"c3\", \"www.dglab.uni-jena.de/vmf/c3\")\n",
    "    ET.register_namespace(\"c4\",\"www.dglab.uni-jena.de/vmf/c4\")\n",
    "    ET.register_namespace(\"c5\",\"www.dglab.uni-jena.de/vmf/c5\")\n",
    "    ET.register_namespace(\"d\",\"www.dglab.uni-jena.de/vmf/d\")\n",
    "    ET.register_namespace('xml', 'http://www.w3.org/XML/1998/namespace')\n",
    "    \n",
    "    try:\n",
    "        tree = ET.parse(teicorpus_file)\n",
    "        root = tree.getroot()\n",
    "        # Verwenden von lokalen Namen ohne Präfixe\n",
    "        for tei_element in root.findall('.//{http://www.tei-c.org/ns/1.0}TEI'):\n",
    "            tei_elements.append(tei_element)\n",
    "    except ET.ParseError as e:\n",
    "        print(f\"Error parsing XML file: {e}\")\n",
    "    \n",
    "    return tei_elements\n",
    "\n",
    "# Funktion zum Speichern eines TEI-Elements in eine separate XML-Datei mit Schemazuweisungen\n",
    "def save_tei_element_with_schema(tei_element, output_folder, index):\n",
    "    text_id = tei_element.find('.//{http://www.tei-c.org/ns/1.0}text').get('{http://www.w3.org/XML/1998/namespace}id')\n",
    "    if text_id:\n",
    "        filename = f'{text_id}.xml'\n",
    "    else:\n",
    "        filename = f'unnamed_{index}.xml'  # Eindeutiger Dateiname mit Index\n",
    "    output_file = os.path.join(output_folder, filename)\n",
    "    \n",
    "    # Erstellen des XML-Dokuments\n",
    "    doc = ET.ElementTree(tei_element)\n",
    "    \n",
    "    # Speichern der XML-Datei\n",
    "    doc.write(output_file, encoding=\"utf-8\", xml_declaration=False, default_namespace=None)\n",
    "\n",
    "# Pfad zur teiCorpus-Datei\n",
    "teicorpus_file = 'Messdaten.xml'\n",
    "# Ausgabeordner für die gespeicherten TEI-XML-Dateien\n",
    "output_folder = 'Messdaten'\n",
    "\n",
    "# Überprüfen und Erstellen des Ausgabeordners, falls er nicht vorhanden ist\n",
    "if not os.path.exists(output_folder):\n",
    "    os.makedirs(output_folder)\n",
    "\n",
    "# Extrahieren aller TEI-Elemente aus der teiCorpus-Datei\n",
    "tei_elements = extract_tei_elements(teicorpus_file)\n",
    "\n",
    "# Speichern jedes TEI-Elements in eine separate XML-Datei mit Schemazuweisungen\n",
    "for i, tei_element in enumerate(tei_elements):\n",
    "    save_tei_element_with_schema(tei_element, output_folder, i)\n",
    "\n",
    "print(\"TEI-Elemente wurden als separate XML-Dateien mit Schemazuweisungen gespeichert.\")"
   ]
  },
  {
   "cell_type": "code",
   "execution_count": null,
   "id": "e2cd4aa2",
   "metadata": {},
   "outputs": [],
   "source": []
  },
  {
   "cell_type": "code",
   "execution_count": null,
   "id": "2eab44d4",
   "metadata": {},
   "outputs": [],
   "source": []
  }
 ],
 "metadata": {
  "kernelspec": {
   "display_name": "Python 3 (ipykernel)",
   "language": "python",
   "name": "python3"
  },
  "language_info": {
   "codemirror_mode": {
    "name": "ipython",
    "version": 3
   },
   "file_extension": ".py",
   "mimetype": "text/x-python",
   "name": "python",
   "nbconvert_exporter": "python",
   "pygments_lexer": "ipython3",
   "version": "3.11.5"
  }
 },
 "nbformat": 4,
 "nbformat_minor": 5
}
