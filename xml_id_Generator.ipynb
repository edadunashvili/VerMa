{
 "cells": [
  {
   "cell_type": "markdown",
   "id": "a7971fc5",
   "metadata": {},
   "source": [
    "# xml:id Generator"
   ]
  },
  {
   "cell_type": "code",
   "execution_count": 2,
   "id": "987cc367",
   "metadata": {},
   "outputs": [],
   "source": [
    "from lxml import etree\n",
    "def update_xml_ids(xml_file):\n",
    "    # Namespace deklarieren\n",
    "    nsmap = {\"tei\": \"http://www.tei-c.org/ns/1.0\"}\n",
    "    \n",
    "    # Parse the XML file\n",
    "    tree = etree.parse(xml_file)\n",
    "    root = tree.getroot()\n",
    "    \n",
    "    # Find all text elements with empty xml:id attributes\n",
    "    text_elements = root.xpath('//tei:text[not(@xml:id)]', namespaces=nsmap)\n",
    "    \n",
    "    # Iterate over the text elements and update the xml:id attribute\n",
    "    for index, text_element in enumerate(text_elements, start=0):\n",
    "        # Generate a unique xml:id value based on the pattern 'a', 'b', 'c', ...\n",
    "        xml_id_value = 'dummy' + str(index)  # Muster 'dummy1', 'dummy2', 'dummy3', ...\n",
    "        \n",
    "        # Set the xml:id attribute to the generated value\n",
    "        text_element.set('{http://www.w3.org/XML/1998/namespace}id', xml_id_value)\n",
    "    \n",
    "    # Write the updated XML tree back to the file\n",
    "    tree.write(xml_file, encoding='utf-8', xml_declaration=True)\n",
    "\n",
    "# Beispielaufruf\n",
    "update_xml_ids(\"Textkorpus.xml\")"
   ]
  }
 ],
 "metadata": {
  "kernelspec": {
   "display_name": "Python 3 (ipykernel)",
   "language": "python",
   "name": "python3"
  },
  "language_info": {
   "codemirror_mode": {
    "name": "ipython",
    "version": 3
   },
   "file_extension": ".py",
   "mimetype": "text/x-python",
   "name": "python",
   "nbconvert_exporter": "python",
   "pygments_lexer": "ipython3",
   "version": "3.11.5"
  }
 },
 "nbformat": 4,
 "nbformat_minor": 5
}
