{
 "cells": [
  {
   "cell_type": "markdown",
   "id": "33f7f249",
   "metadata": {},
   "source": [
    "# Google Colab Arbeitplatz vorbereiten"
   ]
  },
  {
   "cell_type": "code",
   "execution_count": 12,
   "id": "7d42a9ca",
   "metadata": {},
   "outputs": [
    {
     "name": "stderr",
     "output_type": "stream",
     "text": [
      "Der Befehl \"git\" ist entweder falsch geschrieben oder\n",
      "konnte nicht gefunden werden.\n"
     ]
    }
   ],
   "source": [
    "!git clone https://github.com/edadunashvili/VerMa.git"
   ]
  },
  {
   "cell_type": "code",
   "execution_count": null,
   "id": "170ba5f6",
   "metadata": {},
   "outputs": [],
   "source": [
    "cd /content/VerMa"
   ]
  },
  {
   "cell_type": "code",
   "execution_count": null,
   "id": "864ebe83",
   "metadata": {},
   "outputs": [],
   "source": [
    "pip install pyvis"
   ]
  },
  {
   "cell_type": "markdown",
   "id": "8fba6892",
   "metadata": {},
   "source": [
    "# Auswertung_a"
   ]
  },
  {
   "cell_type": "code",
   "execution_count": 10,
   "id": "6c17fb43",
   "metadata": {},
   "outputs": [],
   "source": [
    "maerchen = \"\"  #1 Eine leere Zeichenkette, in der Daten für Märchen gesammelt werden.\n",
    "import xml.etree.ElementTree as ET  #2 Importieren der ElementTree-Bibliothek zum Parsen von XML.\n",
    "root_node = ET.parse('Textkorpus.xml').getroot()  #3 Parsen der XML-Datei und Zugriff auf das Wurzelelement.\n",
    "never_saved = True  #4 Ein boolean-Wert, der angibt, ob Daten bereits gespeichert wurden oder nicht.\n",
    "#5 Iteration durch jedes 'text'-Element in der XML-Datei.\n",
    "for corp in root_node.findall (\".//{http://www.tei-c.org/ns/1.0}teiCorpus\"):\n",
    "    if \"VerMa\" in corp.attrib[\"n\"]:\n",
    "        for ganze in corp.findall(\".//{http://www.tei-c.org/ns/1.0}text\"):\n",
    "            #6 Überprüfung, ob das Attribut 'deu' in der 'id'-Eigenschaft des 'text'-Elements vorhanden ist.\n",
    "            if ('zyx_' in ganze.attrib['{http://www.w3.org/XML/1998/namespace}id']):\n",
    "                #7 Iteration durch jeden Absatz im 'body' des 'text'-Elements.\n",
    "                for body in ganze.findall(\".//{http://www.tei-c.org/ns/1.0}body\"):\n",
    "                    for absatz in body.findall(\".//{http://www.tei-c.org/ns/1.0}p\"):\n",
    "                        #8 Iteration durch jede 'seg'-Phrase im Absatz.\n",
    "                        for phrase in absatz.findall(\".//{http://www.tei-c.org/ns/1.0}seg\"):\n",
    "                            #9 Extrahieren von Labels und Inhalten aus den Attributen und dem Text der Phrase.\n",
    "                            labelx = ganze.attrib['{http://www.w3.org/XML/1998/namespace}id']\n",
    "                            labela = phrase.attrib['{www.dglab.uni-jena.de/vmf/a}ana']\n",
    "                            if labela !='N' and labela!=\"formel\":# and labela!=\"a554\":\n",
    "\n",
    "                                maerchen += labela+','+labelx+'\\n'\n",
    "                                \n",
    "with open(\"anzahl.csv\", 'w', encoding='utf-8') as f:\n",
    "    #10 Schreiben der Kopfzeile in die CSV-Datei.\n",
    "    f.write ('labela,labelx\\n')\n",
    "    #11 Schreiben der gesammelten Daten in die CSV-Datei.\n",
    "    f.write (maerchen)"
   ]
  },
  {
   "cell_type": "code",
   "execution_count": 11,
   "id": "367dfd27",
   "metadata": {
    "scrolled": true
   },
   "outputs": [
    {
     "name": "stdout",
     "output_type": "stream",
     "text": [
      "auswertung_a.html\n"
     ]
    },
    {
     "ename": "UnicodeEncodeError",
     "evalue": "'charmap' codec can't encode characters in position 263607-263621: character maps to <undefined>",
     "output_type": "error",
     "traceback": [
      "\u001b[1;31m---------------------------------------------------------------------------\u001b[0m",
      "\u001b[1;31mUnicodeEncodeError\u001b[0m                        Traceback (most recent call last)",
      "Cell \u001b[1;32mIn[11], line 71\u001b[0m\n\u001b[0;32m     67\u001b[0m     net\u001b[38;5;241m.\u001b[39madd_edge(labela, labela, value\u001b[38;5;241m=\u001b[39mdata[\u001b[38;5;124m'\u001b[39m\u001b[38;5;124mweight\u001b[39m\u001b[38;5;124m'\u001b[39m], title\u001b[38;5;241m=\u001b[39medge_title)\u001b[38;5;66;03m#, color='red')  #27 Optional: Selbstverbindungen farblich hervorheben\u001b[39;00m\n\u001b[0;32m     69\u001b[0m \u001b[38;5;66;03m#from IPython.core.display import display, HTML\u001b[39;00m\n\u001b[1;32m---> 71\u001b[0m net\u001b[38;5;241m.\u001b[39mshow(\u001b[38;5;124m'\u001b[39m\u001b[38;5;124mauswertung_a.html\u001b[39m\u001b[38;5;124m'\u001b[39m)\n",
      "File \u001b[1;32m~\\AppData\\Local\\anaconda3\\Lib\\site-packages\\pyvis\\network.py:546\u001b[0m, in \u001b[0;36mNetwork.show\u001b[1;34m(self, name, local, notebook)\u001b[0m\n\u001b[0;32m    544\u001b[0m \u001b[38;5;28mprint\u001b[39m(name)\n\u001b[0;32m    545\u001b[0m \u001b[38;5;28;01mif\u001b[39;00m notebook:\n\u001b[1;32m--> 546\u001b[0m     \u001b[38;5;28mself\u001b[39m\u001b[38;5;241m.\u001b[39mwrite_html(name, open_browser\u001b[38;5;241m=\u001b[39m\u001b[38;5;28;01mFalse\u001b[39;00m,notebook\u001b[38;5;241m=\u001b[39m\u001b[38;5;28;01mTrue\u001b[39;00m)\n\u001b[0;32m    547\u001b[0m \u001b[38;5;28;01melse\u001b[39;00m:\n\u001b[0;32m    548\u001b[0m     \u001b[38;5;28mself\u001b[39m\u001b[38;5;241m.\u001b[39mwrite_html(name, open_browser\u001b[38;5;241m=\u001b[39m\u001b[38;5;28;01mTrue\u001b[39;00m)\n",
      "File \u001b[1;32m~\\AppData\\Local\\anaconda3\\Lib\\site-packages\\pyvis\\network.py:530\u001b[0m, in \u001b[0;36mNetwork.write_html\u001b[1;34m(self, name, local, notebook, open_browser)\u001b[0m\n\u001b[0;32m    528\u001b[0m \u001b[38;5;28;01melif\u001b[39;00m \u001b[38;5;28mself\u001b[39m\u001b[38;5;241m.\u001b[39mcdn_resources \u001b[38;5;241m==\u001b[39m \u001b[38;5;124m\"\u001b[39m\u001b[38;5;124min_line\u001b[39m\u001b[38;5;124m\"\u001b[39m \u001b[38;5;129;01mor\u001b[39;00m \u001b[38;5;28mself\u001b[39m\u001b[38;5;241m.\u001b[39mcdn_resources \u001b[38;5;241m==\u001b[39m \u001b[38;5;124m\"\u001b[39m\u001b[38;5;124mremote\u001b[39m\u001b[38;5;124m\"\u001b[39m:\n\u001b[0;32m    529\u001b[0m     \u001b[38;5;28;01mwith\u001b[39;00m \u001b[38;5;28mopen\u001b[39m(getcwd_name, \u001b[38;5;124m\"\u001b[39m\u001b[38;5;124mw+\u001b[39m\u001b[38;5;124m\"\u001b[39m) \u001b[38;5;28;01mas\u001b[39;00m out:\n\u001b[1;32m--> 530\u001b[0m         out\u001b[38;5;241m.\u001b[39mwrite(\u001b[38;5;28mself\u001b[39m\u001b[38;5;241m.\u001b[39mhtml)\n\u001b[0;32m    531\u001b[0m \u001b[38;5;28;01melse\u001b[39;00m:\n\u001b[0;32m    532\u001b[0m     \u001b[38;5;28;01massert\u001b[39;00m \u001b[38;5;124m\"\u001b[39m\u001b[38;5;124mcdn_resources is not in [\u001b[39m\u001b[38;5;124m'\u001b[39m\u001b[38;5;124min_line\u001b[39m\u001b[38;5;124m'\u001b[39m\u001b[38;5;124m,\u001b[39m\u001b[38;5;124m'\u001b[39m\u001b[38;5;124mremote\u001b[39m\u001b[38;5;124m'\u001b[39m\u001b[38;5;124m,\u001b[39m\u001b[38;5;124m'\u001b[39m\u001b[38;5;124mlocal\u001b[39m\u001b[38;5;124m'\u001b[39m\u001b[38;5;124m].\u001b[39m\u001b[38;5;124m\"\u001b[39m\n",
      "File \u001b[1;32m~\\AppData\\Local\\anaconda3\\Lib\\encodings\\cp1252.py:19\u001b[0m, in \u001b[0;36mIncrementalEncoder.encode\u001b[1;34m(self, input, final)\u001b[0m\n\u001b[0;32m     18\u001b[0m \u001b[38;5;28;01mdef\u001b[39;00m \u001b[38;5;21mencode\u001b[39m(\u001b[38;5;28mself\u001b[39m, \u001b[38;5;28minput\u001b[39m, final\u001b[38;5;241m=\u001b[39m\u001b[38;5;28;01mFalse\u001b[39;00m):\n\u001b[1;32m---> 19\u001b[0m     \u001b[38;5;28;01mreturn\u001b[39;00m codecs\u001b[38;5;241m.\u001b[39mcharmap_encode(\u001b[38;5;28minput\u001b[39m,\u001b[38;5;28mself\u001b[39m\u001b[38;5;241m.\u001b[39merrors,encoding_table)[\u001b[38;5;241m0\u001b[39m]\n",
      "\u001b[1;31mUnicodeEncodeError\u001b[0m: 'charmap' codec can't encode characters in position 263607-263621: character maps to <undefined>"
     ]
    }
   ],
   "source": [
    "import pandas as pd\n",
    "from pyvis.network import Network\n",
    "from itertools import combinations\n",
    "\n",
    "#12 CSV-Datei einlesen\n",
    "df = pd.read_csv('anzahl.csv')\n",
    "\n",
    "#13 Duplikate entfernen, um einzigartige Datensätze zu erhalten\n",
    "unique_df = df.drop_duplicates()\n",
    "\n",
    "#14 Netzwerk erstellen\n",
    "net = Network(notebook=True, cdn_resources='in_line')\n",
    "\n",
    "#15 Dictionary zur Speicherung der Kanten, deren Gewicht und der zugehörigen labelx-Werte\n",
    "edges = {}\n",
    "\n",
    "#16 Mindesthäufigkeit definieren\n",
    "min_frequency = 1  # Setze hier die minimale Häufigkeit\n",
    "\n",
    "#17 Selbstverbindungen dictionary\n",
    "self_loops = {}\n",
    "\n",
    "#18 Gruppieren nach labelx und Häufigkeit der Begegnung zwischen labela Elementen zählen\n",
    "for labelx, group in unique_df.groupby('labelx'):\n",
    "    labelas = group['labela'].unique()\n",
    "    \n",
    "    if len(labelas) == 1:\n",
    "        #19 Fall, wenn ein labela nur mit einem labelx verbunden ist -> Selbstverbindung\n",
    "        labela = labelas[0]\n",
    "        if labela in self_loops:\n",
    "            self_loops[labela]['weight'] += 1\n",
    "            self_loops[labela]['labelx_values'].append(labelx)\n",
    "        else:\n",
    "            self_loops[labela] = {\n",
    "                'weight': 1,\n",
    "                'labelx_values': [labelx]\n",
    "            }\n",
    "    else:\n",
    "        #20 Alle Paare von labela Elementen, die denselben labelx teilen\n",
    "        for pair in combinations(labelas, 2):\n",
    "            sorted_pair = tuple(sorted(pair))  #21 Sortieren, um Richtungslosigkeit zu gewährleisten\n",
    "            if sorted_pair in edges:\n",
    "                edges[sorted_pair]['weight'] += 1  #22 Häufigkeit erhöhen\n",
    "                edges[sorted_pair]['labelx_values'].append(labelx)  #23 labelx-Wert hinzufügen\n",
    "            else:\n",
    "                edges[sorted_pair] = {\n",
    "                    'weight': 1,\n",
    "                    'labelx_values': [labelx]  #24 Erster labelx-Wert\n",
    "                }\n",
    "\n",
    "#25 Knoten und Kanten zum Netzwerk hinzufügen, basierend auf min_frequency\n",
    "for (labela1, labela2), data in edges.items():\n",
    "    if data['weight'] >= min_frequency:  #26 Nur Kanten mit ausreichender Häufigkeit hinzufügen\n",
    "        labelx_list = \", \".join(data['labelx_values'])  # labelx-Werte als String\n",
    "        edge_title = f'{data[\"weight\"]}'#{labelx_list}'\n",
    "        \n",
    "        net.add_node(labela1, labela1, title=labela1)\n",
    "        net.add_node(labela2, labela2, title=labela2)\n",
    "        net.add_edge(labela1, labela2, value=data['weight'], title=edge_title)\n",
    "\n",
    "#26 Selbstverbindungen hinzufügen\n",
    "for labela, data in self_loops.items():\n",
    "    labelx_list = \", \".join(data['labelx_values'])\n",
    "    edge_title = f'{data[\"weight\"]}'#{labelx_list}'\n",
    "    \n",
    "    net.add_node(labela, labela, title=labela)\n",
    "    net.add_edge(labela, labela, value=data['weight'], title=edge_title)#, color='red')  #27 Optional: Selbstverbindungen farblich hervorheben\n",
    "\n",
    "from IPython.core.display import display, HTML\n",
    "\n",
    "net.show('auswertung_a.html')\n",
    "display(HTML('auswertung_a.html'))"
   ]
  },
  {
   "cell_type": "code",
   "execution_count": null,
   "id": "6de07e8c",
   "metadata": {},
   "outputs": [],
   "source": []
  },
  {
   "cell_type": "code",
   "execution_count": null,
   "id": "dfb09ee8",
   "metadata": {},
   "outputs": [],
   "source": []
  }
 ],
 "metadata": {
  "kernelspec": {
   "display_name": "Python 3 (ipykernel)",
   "language": "python",
   "name": "python3"
  },
  "language_info": {
   "codemirror_mode": {
    "name": "ipython",
    "version": 3
   },
   "file_extension": ".py",
   "mimetype": "text/x-python",
   "name": "python",
   "nbconvert_exporter": "python",
   "pygments_lexer": "ipython3",
   "version": "3.11.5"
  }
 },
 "nbformat": 4,
 "nbformat_minor": 5
}
