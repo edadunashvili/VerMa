{
 "cells": [
  {
   "cell_type": "code",
   "execution_count": 1,
   "id": "1891a395",
   "metadata": {
    "scrolled": true
   },
   "outputs": [
    {
     "name": "stdout",
     "output_type": "stream",
     "text": [
      "Alle XML-Dateien wurden erfolgreich in die teiCorpus-Datei geschrieben.\n"
     ]
    }
   ],
   "source": [
    "import os\n",
    "\n",
    "# Pfad zum Ordner mit den XML-Dateien\n",
    "ordner_pfad = \"Messdaten\"\n",
    "\n",
    "# Pfad zur Ausgabedatei\n",
    "ausgabe_datei = \"Messdaten_0.xml\"\n",
    "\n",
    "# Funktion zum Lesen des Inhalts einer XML-Datei und Schreiben in die Ausgabedatei\n",
    "def xml_inhalt_zu_teicorpus(xml_datei, ausgabe_datei):\n",
    "    with open(xml_datei, 'r', encoding='utf-8') as xml_datei:\n",
    "        xml_inhalt = xml_datei.read()\n",
    "        with open(ausgabe_datei, 'a', encoding='utf-8') as ausgabe:\n",
    "            ausgabe.write(xml_inhalt + '\\n')\n",
    "\n",
    "# Überprüfen, ob der Pfad existiert und ob es sich um einen Ordner handelt\n",
    "if os.path.exists(ordner_pfad) and os.path.isdir(ordner_pfad):\n",
    "    # Durchsuchen aller XML-Dateien im Ordner und Schreiben ihres Inhalts in die Ausgabedatei\n",
    "    with open(ausgabe_datei, 'w', encoding='utf-8') as ausgabe:\n",
    "        ausgabe.write('')  # Leere die Ausgabedatei, falls sie bereits existiert\n",
    "    for datei in os.listdir(ordner_pfad):\n",
    "        if datei.endswith('.xml'):\n",
    "            xml_inhalt_zu_teicorpus(os.path.join(ordner_pfad, datei), ausgabe_datei)\n",
    "    print(\"Alle XML-Dateien wurden erfolgreich in die teiCorpus-Datei geschrieben.\")\n",
    "else:\n",
    "    print(\"Der angegebene Pfad ist kein gültiger Ordner.\")"
   ]
  },
  {
   "cell_type": "code",
   "execution_count": null,
   "id": "cf6d613e",
   "metadata": {},
   "outputs": [],
   "source": []
  }
 ],
 "metadata": {
  "kernelspec": {
   "display_name": "Python 3 (ipykernel)",
   "language": "python",
   "name": "python3"
  },
  "language_info": {
   "codemirror_mode": {
    "name": "ipython",
    "version": 3
   },
   "file_extension": ".py",
   "mimetype": "text/x-python",
   "name": "python",
   "nbconvert_exporter": "python",
   "pygments_lexer": "ipython3",
   "version": "3.11.5"
  }
 },
 "nbformat": 4,
 "nbformat_minor": 5
}
