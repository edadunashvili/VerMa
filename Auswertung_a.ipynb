{
 "cells": [
  {
   "cell_type": "markdown",
   "id": "8fba6892",
   "metadata": {},
   "source": [
    "# Auswertung_a"
   ]
  },
  {
   "cell_type": "code",
   "execution_count": 1,
   "id": "6c17fb43",
   "metadata": {},
   "outputs": [],
   "source": [
    "maerchen = \"\"  #1 Eine leere Zeichenkette, in der Daten für Märchen gesammelt werden.\n",
    "import xml.etree.ElementTree as ET  #2 Importieren der ElementTree-Bibliothek zum Parsen von XML.\n",
    "root_node = ET.parse('Textkorpus.xml').getroot()  #3 Parsen der XML-Datei und Zugriff auf das Wurzelelement.\n",
    "never_saved = True  #4 Ein boolean-Wert, der angibt, ob Daten bereits gespeichert wurden oder nicht.\n",
    "#5 Iteration durch jedes 'text'-Element in der XML-Datei.\n",
    "for corp in root_node.findall (\".//{http://www.tei-c.org/ns/1.0}teiCorpus\"):\n",
    "    if \"VerMa\" in corp.attrib[\"n\"]:\n",
    "        for ganze in corp.findall(\".//{http://www.tei-c.org/ns/1.0}text\"):\n",
    "            #6 Überprüfung, ob das Attribut 'deu' in der 'id'-Eigenschaft des 'text'-Elements vorhanden ist.\n",
    "            if ('zyx_' in ganze.attrib['{http://www.w3.org/XML/1998/namespace}id']):\n",
    "                #7 Iteration durch jeden Absatz im 'body' des 'text'-Elements.\n",
    "                for body in ganze.findall(\".//{http://www.tei-c.org/ns/1.0}body\"):\n",
    "                    for absatz in body.findall(\".//{http://www.tei-c.org/ns/1.0}p\"):\n",
    "                        #8 Iteration durch jede 'seg'-Phrase im Absatz.\n",
    "                        for phrase in absatz.findall(\".//{http://www.tei-c.org/ns/1.0}seg\"):\n",
    "                            #9 Extrahieren von Labels und Inhalten aus den Attributen und dem Text der Phrase.\n",
    "                            labelx = ganze.attrib['{http://www.w3.org/XML/1998/namespace}id']\n",
    "                            labela = phrase.attrib['{www.dglab.uni-jena.de/vmf/a}ana']\n",
    "                            if labela !='N' and labela!=\"formel\":# and labela!=\"a554\":\n",
    "\n",
    "                                maerchen += labela+','+labelx+'\\n'\n",
    "                                \n",
    "with open(\"anzahl.csv\", 'w', encoding='utf-8') as f:\n",
    "    #10 Schreiben der Kopfzeile in die CSV-Datei.\n",
    "    f.write ('labela,labelx\\n')\n",
    "    #11 Schreiben der gesammelten Daten in die CSV-Datei.\n",
    "    f.write (maerchen)"
   ]
  },
  {
   "cell_type": "code",
   "execution_count": 2,
   "id": "367dfd27",
   "metadata": {
    "scrolled": false
   },
   "outputs": [
    {
     "name": "stdout",
     "output_type": "stream",
     "text": [
      "Warning: When  cdn_resources is 'local' jupyter notebook has issues displaying graphics on chrome/safari. Use cdn_resources='in_line' or cdn_resources='remote' if you have issues viewing graphics in a notebook.\n",
      "auswertung_a.html\n"
     ]
    },
    {
     "data": {
      "text/html": [
       "\n",
       "        <iframe\n",
       "            width=\"100%\"\n",
       "            height=\"600px\"\n",
       "            src=\"auswertung_a.html\"\n",
       "            frameborder=\"0\"\n",
       "            allowfullscreen\n",
       "            \n",
       "        ></iframe>\n",
       "        "
      ],
      "text/plain": [
       "<IPython.lib.display.IFrame at 0x296f071c250>"
      ]
     },
     "execution_count": 2,
     "metadata": {},
     "output_type": "execute_result"
    }
   ],
   "source": [
    "import pandas as pd\n",
    "from pyvis.network import Network\n",
    "from itertools import combinations\n",
    "\n",
    "#12 CSV-Datei einlesen\n",
    "df = pd.read_csv('anzahl.csv')\n",
    "\n",
    "#13 Duplikate entfernen, um einzigartige Datensätze zu erhalten\n",
    "unique_df = df.drop_duplicates()\n",
    "\n",
    "#14 Netzwerk erstellen\n",
    "net = Network(notebook=True)\n",
    "\n",
    "#15 Dictionary zur Speicherung der Kanten, deren Gewicht und der zugehörigen labelx-Werte\n",
    "edges = {}\n",
    "\n",
    "#16 Mindesthäufigkeit definieren\n",
    "min_frequency = 1  # Setze hier die minimale Häufigkeit\n",
    "\n",
    "#17 Selbstverbindungen dictionary\n",
    "self_loops = {}\n",
    "\n",
    "#18 Gruppieren nach labelx und Häufigkeit der Begegnung zwischen labela Elementen zählen\n",
    "for labelx, group in unique_df.groupby('labelx'):\n",
    "    labelas = group['labela'].unique()\n",
    "    \n",
    "    if len(labelas) == 1:\n",
    "        #19 Fall, wenn ein labela nur mit einem labelx verbunden ist -> Selbstverbindung\n",
    "        labela = labelas[0]\n",
    "        if labela in self_loops:\n",
    "            self_loops[labela]['weight'] += 1\n",
    "            self_loops[labela]['labelx_values'].append(labelx)\n",
    "        else:\n",
    "            self_loops[labela] = {\n",
    "                'weight': 1,\n",
    "                'labelx_values': [labelx]\n",
    "            }\n",
    "    else:\n",
    "        #20 Alle Paare von labela Elementen, die denselben labelx teilen\n",
    "        for pair in combinations(labelas, 2):\n",
    "            sorted_pair = tuple(sorted(pair))  #21 Sortieren, um Richtungslosigkeit zu gewährleisten\n",
    "            if sorted_pair in edges:\n",
    "                edges[sorted_pair]['weight'] += 1  #22 Häufigkeit erhöhen\n",
    "                edges[sorted_pair]['labelx_values'].append(labelx)  #23 labelx-Wert hinzufügen\n",
    "            else:\n",
    "                edges[sorted_pair] = {\n",
    "                    'weight': 1,\n",
    "                    'labelx_values': [labelx]  #24 Erster labelx-Wert\n",
    "                }\n",
    "\n",
    "#25 Knoten und Kanten zum Netzwerk hinzufügen, basierend auf min_frequency\n",
    "for (labela1, labela2), data in edges.items():\n",
    "    if data['weight'] >= min_frequency:  #26 Nur Kanten mit ausreichender Häufigkeit hinzufügen\n",
    "        labelx_list = \", \".join(data['labelx_values'])  # labelx-Werte als String\n",
    "        edge_title = f'{data[\"weight\"]}'#{labelx_list}'\n",
    "        \n",
    "        net.add_node(labela1, labela1, title=labela1)\n",
    "        net.add_node(labela2, labela2, title=labela2)\n",
    "        net.add_edge(labela1, labela2, value=data['weight'], title=edge_title)\n",
    "\n",
    "#26 Selbstverbindungen hinzufügen\n",
    "for labela, data in self_loops.items():\n",
    "    labelx_list = \", \".join(data['labelx_values'])\n",
    "    edge_title = f'{data[\"weight\"]}'#{labelx_list}'\n",
    "    \n",
    "    net.add_node(labela, labela, title=labela)\n",
    "    net.add_edge(labela, labela, value=data['weight'], title=edge_title)#, color='red')  #27 Optional: Selbstverbindungen farblich hervorheben\n",
    "\n",
    "#28 Graph anzeigen\n",
    "net.show('auswertung_a.html')"
   ]
  },
  {
   "cell_type": "code",
   "execution_count": null,
   "id": "6de07e8c",
   "metadata": {},
   "outputs": [],
   "source": []
  },
  {
   "cell_type": "code",
   "execution_count": null,
   "id": "dfb09ee8",
   "metadata": {},
   "outputs": [],
   "source": []
  }
 ],
 "metadata": {
  "kernelspec": {
   "display_name": "Python 3 (ipykernel)",
   "language": "python",
   "name": "python3"
  },
  "language_info": {
   "codemirror_mode": {
    "name": "ipython",
    "version": 3
   },
   "file_extension": ".py",
   "mimetype": "text/x-python",
   "name": "python",
   "nbconvert_exporter": "python",
   "pygments_lexer": "ipython3",
   "version": "3.11.5"
  }
 },
 "nbformat": 4,
 "nbformat_minor": 5
}
