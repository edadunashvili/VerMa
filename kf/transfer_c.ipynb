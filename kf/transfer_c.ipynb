{
 "cells": [
  {
   "cell_type": "markdown",
   "id": "a1a186c9",
   "metadata": {},
   "source": [
    "# Transfehr von C1 zu C2-C5"
   ]
  },
  {
   "cell_type": "code",
   "execution_count": 1,
   "id": "044219e5",
   "metadata": {
    "scrolled": true
   },
   "outputs": [
    {
     "name": "stdout",
     "output_type": "stream",
     "text": [
      "Die xs:enumeration-Elemente in vmf_c1.xsd wurden ersetzt.\n",
      "Die xs:enumeration-Elemente in vmf_c2.xsd wurden ersetzt.\n",
      "Die xs:enumeration-Elemente in vmf_c3.xsd wurden ersetzt.\n",
      "Die xs:enumeration-Elemente in vmf_c4.xsd wurden ersetzt.\n",
      "Die xs:enumeration-Elemente in vmf_c5.xsd wurden ersetzt.\n"
     ]
    }
   ],
   "source": [
    "from lxml import etree\n",
    "import locale\n",
    "\n",
    "# Setze die Locale auf Deutsch, um korrekte Sortierung von Umlauten zu gewährleisten\n",
    "locale.setlocale(locale.LC_ALL, 'de_DE.utf8')\n",
    "\n",
    "# Pfad zur Input-Datei (vmf_c1.xsd)\n",
    "input_xsd_file = 'vmf_c1.xsd'\n",
    "\n",
    "# Pfade zu den Output-Dateien (vmf_c2.xsd, vmf_c3.xsd, vmf_c4.xsd, vmf_c5.xsd)\n",
    "output_xsd_files = ['vmf_c1.xsd','vmf_c2.xsd', 'vmf_c3.xsd', 'vmf_c4.xsd', 'vmf_c5.xsd']\n",
    "\n",
    "# Namespace definieren\n",
    "ns = {'xs': 'http://www.w3.org/2001/XMLSchema'}\n",
    "\n",
    "# xs:schema-Datei (vmf_c1.xsd) einlesen und alle xs:enumeration-Elemente extrahieren\n",
    "def extract_enumeration_elements(xsd_file):\n",
    "    parser = etree.XMLParser(remove_comments=False)\n",
    "    tree = etree.parse(xsd_file, parser)\n",
    "    root = tree.getroot()\n",
    "    \n",
    "    # Alle xs:enumeration-Elemente finden\n",
    "    enumerations = root.findall('.//xs:enumeration', namespaces=ns)\n",
    "    \n",
    "    # Liste der gesamten xs:enumeration-Elemente mit allen untergeordneten Knoten\n",
    "    enumeration_elements = [(enum, enum.get('value')) for enum in enumerations if enum.get('value') is not None]\n",
    "    \n",
    "    # Alphanumerische Sortierung basierend auf dem value-Attribut unter Berücksichtigung der deutschen Locale\n",
    "    enumeration_elements.sort(key=lambda x: locale.strxfrm(x[1]))\n",
    "    \n",
    "    # Nur die Elemente zurückgeben, nicht die Werte\n",
    "    return [enum[0] for enum in enumeration_elements]\n",
    "\n",
    "# xs:enumeration-Elemente in den Output-Dateien ersetzen\n",
    "def replace_enumeration_elements(output_xsd_file, new_enumerations):\n",
    "    parser = etree.XMLParser(remove_comments=False)\n",
    "    tree = etree.parse(output_xsd_file, parser)\n",
    "    root = tree.getroot()\n",
    "    \n",
    "    # Einen geeigneten Elternknoten für xs:enumeration finden\n",
    "    restriction = root.find('.//xs:restriction', namespaces=ns)\n",
    "    \n",
    "    if restriction is None:\n",
    "        print(f\"Kein <xs:restriction>-Element in {output_xsd_file} gefunden. Überspringe Datei.\")\n",
    "        return\n",
    "    \n",
    "    # Entfernen der alten xs:enumeration-Elemente\n",
    "    for enum in restriction.findall('.//xs:enumeration', namespaces=ns):\n",
    "        restriction.remove(enum)\n",
    "    \n",
    "    # Hinzufügen der neuen xs:enumeration-Elemente (bereits sortiert)\n",
    "    for new_enum in new_enumerations:\n",
    "        restriction.append(new_enum)  # Die neuen kompletten Elemente anhängen\n",
    "    \n",
    "    # Die veränderte Datei speichern\n",
    "    tree.write(output_xsd_file, pretty_print=True, xml_declaration=True, encoding='UTF-8')\n",
    "\n",
    "# Hauptfunktion\n",
    "def main():\n",
    "    # Schritt 1: Alle xs:enumeration-Elemente aus vmf_c1.xsd extrahieren (inklusive Unterelemente)\n",
    "    new_enumerations = extract_enumeration_elements(input_xsd_file)\n",
    "    \n",
    "    # Schritt 2: Die Werte in den Output-Dateien ersetzen\n",
    "    for output_file in output_xsd_files:\n",
    "        replace_enumeration_elements(output_file, new_enumerations)\n",
    "        print(f\"Die xs:enumeration-Elemente in {output_file} wurden ersetzt.\")\n",
    "\n",
    "if __name__ == \"__main__\":\n",
    "    main()"
   ]
  },
  {
   "cell_type": "code",
   "execution_count": null,
   "id": "ecd9a4ba",
   "metadata": {},
   "outputs": [],
   "source": []
  }
 ],
 "metadata": {
  "kernelspec": {
   "display_name": "Python 3 (ipykernel)",
   "language": "python",
   "name": "python3"
  },
  "language_info": {
   "codemirror_mode": {
    "name": "ipython",
    "version": 3
   },
   "file_extension": ".py",
   "mimetype": "text/x-python",
   "name": "python",
   "nbconvert_exporter": "python",
   "pygments_lexer": "ipython3",
   "version": "3.11.5"
  }
 },
 "nbformat": 4,
 "nbformat_minor": 5
}
