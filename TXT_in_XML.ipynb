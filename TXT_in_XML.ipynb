{
 "cells": [
  {
   "cell_type": "markdown",
   "id": "53b93bfc",
   "metadata": {},
   "source": [
    "# TXT in XML"
   ]
  },
  {
   "cell_type": "code",
   "execution_count": 2,
   "id": "d4428f47",
   "metadata": {},
   "outputs": [],
   "source": [
    "import os\n",
    "\n",
    "def process_text_file(input_file):\n",
    "    with open(input_file, 'r', encoding='utf-8') as f:\n",
    "        content = f.read()\n",
    "\n",
    "    # Trennung von Absätzen\n",
    "    paragraphs = content.split('\\n')\n",
    "\n",
    "    # Erstellen des HTML-Inhalts\n",
    "    html_content = '<TEI><teiHeader><fileDesc><titleStmt><title>Bartsch_Maerchen_und_Legenden</title></titleStmt><publicationStmt><ab></ab></publicationStmt><sourceDesc><ab></ab></sourceDesc></fileDesc></teiHeader><text><body><head>' + paragraphs[0] + '</head>'\n",
    "    for paragraph in paragraphs[1:]:\n",
    "        html_content += '<p><seg a:ana=\"N\" b1:ana=\"N\" c1:ana=\"N\" b2:ana=\"N\" c2:ana=\"N\" b3:ana=\"N\" c3:ana=\"N\" b4:ana=\"N\" c4:ana=\"N\" b5:ana=\"N\" c5:ana=\"N\" d:ana=\"N\">' + paragraph + '</seg></p>'\n",
    "    html_content += '</body></text></TEI>'\n",
    "\n",
    "    return html_content\n",
    "\n",
    "def merge_and_convert_to_html(folder_path, output_file):\n",
    "    html_content = ''\n",
    "    for filename in os.listdir(folder_path):\n",
    "        if filename.endswith('.txt'):\n",
    "            input_file = os.path.join(folder_path, filename)\n",
    "            html_content += process_text_file(input_file)\n",
    "\n",
    "    with open(output_file, 'w', encoding='utf-8') as f:\n",
    "        f.write(html_content)\n",
    "\n",
    "if __name__ == \"__main__\":\n",
    "    folder_path = 'experiment_3'  # Ersetzen Sie dies durch den tatsächlichen Pfad zu Ihrem Ordner\n",
    "    output_file = 'experiment_3.txt'  # Name der Ausgabedatei\n",
    "    merge_and_convert_to_html(folder_path, output_file)"
   ]
  },
  {
   "cell_type": "code",
   "execution_count": null,
   "id": "1d201ee7",
   "metadata": {},
   "outputs": [],
   "source": []
  }
 ],
 "metadata": {
  "kernelspec": {
   "display_name": "Python 3 (ipykernel)",
   "language": "python",
   "name": "python3"
  },
  "language_info": {
   "codemirror_mode": {
    "name": "ipython",
    "version": 3
   },
   "file_extension": ".py",
   "mimetype": "text/x-python",
   "name": "python",
   "nbconvert_exporter": "python",
   "pygments_lexer": "ipython3",
   "version": "3.11.5"
  }
 },
 "nbformat": 4,
 "nbformat_minor": 5
}
